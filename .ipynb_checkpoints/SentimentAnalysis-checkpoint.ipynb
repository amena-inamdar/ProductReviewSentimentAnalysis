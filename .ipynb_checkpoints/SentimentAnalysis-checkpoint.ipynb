{
 "cells": [
  {
   "cell_type": "code",
   "execution_count": 1,
   "id": "ad455948-83f9-4750-a2e6-ce0d8e76841c",
   "metadata": {},
   "outputs": [
    {
     "data": {
      "text/html": [
       "<div>\n",
       "<style scoped>\n",
       "    .dataframe tbody tr th:only-of-type {\n",
       "        vertical-align: middle;\n",
       "    }\n",
       "\n",
       "    .dataframe tbody tr th {\n",
       "        vertical-align: top;\n",
       "    }\n",
       "\n",
       "    .dataframe thead th {\n",
       "        text-align: right;\n",
       "    }\n",
       "</style>\n",
       "<table border=\"1\" class=\"dataframe\">\n",
       "  <thead>\n",
       "    <tr style=\"text-align: right;\">\n",
       "      <th></th>\n",
       "      <th>Id</th>\n",
       "      <th>profileName</th>\n",
       "      <th>text</th>\n",
       "      <th>rating</th>\n",
       "      <th>helpful</th>\n",
       "    </tr>\n",
       "  </thead>\n",
       "  <tbody>\n",
       "    <tr>\n",
       "      <th>0</th>\n",
       "      <td>1</td>\n",
       "      <td>Raunav Dasgupta</td>\n",
       "      <td>The product is okay, you can easily transfer t...</td>\n",
       "      <td>4</td>\n",
       "      <td>6</td>\n",
       "    </tr>\n",
       "    <tr>\n",
       "      <th>1</th>\n",
       "      <td>2</td>\n",
       "      <td>SUMAN</td>\n",
       "      <td>I am using it with my iPhone 13 and it works p...</td>\n",
       "      <td>4</td>\n",
       "      <td>2</td>\n",
       "    </tr>\n",
       "    <tr>\n",
       "      <th>2</th>\n",
       "      <td>3</td>\n",
       "      <td>Deepak nagpal</td>\n",
       "      <td>This is a very compact pendrive and it holds t...</td>\n",
       "      <td>5</td>\n",
       "      <td>0</td>\n",
       "    </tr>\n",
       "    <tr>\n",
       "      <th>3</th>\n",
       "      <td>4</td>\n",
       "      <td>ajay chauhan</td>\n",
       "      <td>Osm🔥</td>\n",
       "      <td>3</td>\n",
       "      <td>0</td>\n",
       "    </tr>\n",
       "    <tr>\n",
       "      <th>4</th>\n",
       "      <td>5</td>\n",
       "      <td>JAYA</td>\n",
       "      <td>Highly versatile product. A worth buy . Doing ...</td>\n",
       "      <td>5</td>\n",
       "      <td>0</td>\n",
       "    </tr>\n",
       "  </tbody>\n",
       "</table>\n",
       "</div>"
      ],
      "text/plain": [
       "   Id      profileName                                               text  \\\n",
       "0   1  Raunav Dasgupta  The product is okay, you can easily transfer t...   \n",
       "1   2            SUMAN  I am using it with my iPhone 13 and it works p...   \n",
       "2   3    Deepak nagpal  This is a very compact pendrive and it holds t...   \n",
       "3   4     ajay chauhan                                               Osm🔥   \n",
       "4   5             JAYA  Highly versatile product. A worth buy . Doing ...   \n",
       "\n",
       "   rating  helpful  \n",
       "0       4        6  \n",
       "1       4        2  \n",
       "2       5        0  \n",
       "3       3        0  \n",
       "4       5        0  "
      ]
     },
     "execution_count": 1,
     "metadata": {},
     "output_type": "execute_result"
    }
   ],
   "source": [
    "import numpy as np\n",
    "import pandas as pd\n",
    "import re\n",
    "import nltk\n",
    "import string\n",
    "pd.options.mode.chained_assignment = None\n",
    "\n",
    "full_df = pd.read_csv(\"reviews.csv\", nrows=5000)\n",
    "df = full_df[[\"text\"]]\n",
    "df[\"text\"] = df[\"text\"].astype(str)\n",
    "full_df.head()"
   ]
  },
  {
   "cell_type": "code",
   "execution_count": 2,
   "id": "77486e34-2cc1-4d8a-b49d-815cd46940ad",
   "metadata": {},
   "outputs": [
    {
     "data": {
      "text/html": [
       "<div>\n",
       "<style scoped>\n",
       "    .dataframe tbody tr th:only-of-type {\n",
       "        vertical-align: middle;\n",
       "    }\n",
       "\n",
       "    .dataframe tbody tr th {\n",
       "        vertical-align: top;\n",
       "    }\n",
       "\n",
       "    .dataframe thead th {\n",
       "        text-align: right;\n",
       "    }\n",
       "</style>\n",
       "<table border=\"1\" class=\"dataframe\">\n",
       "  <thead>\n",
       "    <tr style=\"text-align: right;\">\n",
       "      <th></th>\n",
       "      <th>text</th>\n",
       "      <th>text_lower</th>\n",
       "    </tr>\n",
       "  </thead>\n",
       "  <tbody>\n",
       "    <tr>\n",
       "      <th>0</th>\n",
       "      <td>The product is okay, you can easily transfer t...</td>\n",
       "      <td>the product is okay, you can easily transfer t...</td>\n",
       "    </tr>\n",
       "    <tr>\n",
       "      <th>1</th>\n",
       "      <td>I am using it with my iPhone 13 and it works p...</td>\n",
       "      <td>i am using it with my iphone 13 and it works p...</td>\n",
       "    </tr>\n",
       "    <tr>\n",
       "      <th>2</th>\n",
       "      <td>This is a very compact pendrive and it holds t...</td>\n",
       "      <td>this is a very compact pendrive and it holds t...</td>\n",
       "    </tr>\n",
       "    <tr>\n",
       "      <th>3</th>\n",
       "      <td>Osm🔥</td>\n",
       "      <td>osm🔥</td>\n",
       "    </tr>\n",
       "    <tr>\n",
       "      <th>4</th>\n",
       "      <td>Highly versatile product. A worth buy . Doing ...</td>\n",
       "      <td>highly versatile product. a worth buy . doing ...</td>\n",
       "    </tr>\n",
       "  </tbody>\n",
       "</table>\n",
       "</div>"
      ],
      "text/plain": [
       "                                                text  \\\n",
       "0  The product is okay, you can easily transfer t...   \n",
       "1  I am using it with my iPhone 13 and it works p...   \n",
       "2  This is a very compact pendrive and it holds t...   \n",
       "3                                               Osm🔥   \n",
       "4  Highly versatile product. A worth buy . Doing ...   \n",
       "\n",
       "                                          text_lower  \n",
       "0  the product is okay, you can easily transfer t...  \n",
       "1  i am using it with my iphone 13 and it works p...  \n",
       "2  this is a very compact pendrive and it holds t...  \n",
       "3                                               osm🔥  \n",
       "4  highly versatile product. a worth buy . doing ...  "
      ]
     },
     "execution_count": 2,
     "metadata": {},
     "output_type": "execute_result"
    }
   ],
   "source": [
    "df[\"text_lower\"] = df[\"text\"].str.lower()\n",
    "df.head()"
   ]
  },
  {
   "cell_type": "code",
   "execution_count": 3,
   "id": "c943dfce-f1b3-4f06-9db1-c083a136d1d4",
   "metadata": {},
   "outputs": [
    {
     "data": {
      "text/html": [
       "<div>\n",
       "<style scoped>\n",
       "    .dataframe tbody tr th:only-of-type {\n",
       "        vertical-align: middle;\n",
       "    }\n",
       "\n",
       "    .dataframe tbody tr th {\n",
       "        vertical-align: top;\n",
       "    }\n",
       "\n",
       "    .dataframe thead th {\n",
       "        text-align: right;\n",
       "    }\n",
       "</style>\n",
       "<table border=\"1\" class=\"dataframe\">\n",
       "  <thead>\n",
       "    <tr style=\"text-align: right;\">\n",
       "      <th></th>\n",
       "      <th>text</th>\n",
       "      <th>text_wo_punct</th>\n",
       "    </tr>\n",
       "  </thead>\n",
       "  <tbody>\n",
       "    <tr>\n",
       "      <th>0</th>\n",
       "      <td>The product is okay, you can easily transfer t...</td>\n",
       "      <td>The product is okay you can easily transfer th...</td>\n",
       "    </tr>\n",
       "    <tr>\n",
       "      <th>1</th>\n",
       "      <td>I am using it with my iPhone 13 and it works p...</td>\n",
       "      <td>I am using it with my iPhone 13 and it works p...</td>\n",
       "    </tr>\n",
       "    <tr>\n",
       "      <th>2</th>\n",
       "      <td>This is a very compact pendrive and it holds t...</td>\n",
       "      <td>This is a very compact pendrive and it holds t...</td>\n",
       "    </tr>\n",
       "    <tr>\n",
       "      <th>3</th>\n",
       "      <td>Osm🔥</td>\n",
       "      <td>Osm🔥</td>\n",
       "    </tr>\n",
       "    <tr>\n",
       "      <th>4</th>\n",
       "      <td>Highly versatile product. A worth buy . Doing ...</td>\n",
       "      <td>Highly versatile product A worth buy  Doing go...</td>\n",
       "    </tr>\n",
       "  </tbody>\n",
       "</table>\n",
       "</div>"
      ],
      "text/plain": [
       "                                                text  \\\n",
       "0  The product is okay, you can easily transfer t...   \n",
       "1  I am using it with my iPhone 13 and it works p...   \n",
       "2  This is a very compact pendrive and it holds t...   \n",
       "3                                               Osm🔥   \n",
       "4  Highly versatile product. A worth buy . Doing ...   \n",
       "\n",
       "                                       text_wo_punct  \n",
       "0  The product is okay you can easily transfer th...  \n",
       "1  I am using it with my iPhone 13 and it works p...  \n",
       "2  This is a very compact pendrive and it holds t...  \n",
       "3                                               Osm🔥  \n",
       "4  Highly versatile product A worth buy  Doing go...  "
      ]
     },
     "execution_count": 3,
     "metadata": {},
     "output_type": "execute_result"
    }
   ],
   "source": [
    "df.drop([\"text_lower\"], axis=1, inplace=True)\n",
    "\n",
    "PUNCT_TO_REMOVE = string.punctuation\n",
    "def remove_punctuation(text):\n",
    "    \"\"\"custom function to remove the punctuation\"\"\"\n",
    "    return text.translate(str.maketrans('', '', PUNCT_TO_REMOVE))\n",
    "\n",
    "df[\"text_wo_punct\"] = df[\"text\"].apply(lambda text: remove_punctuation(text))\n",
    "df.head()"
   ]
  },
  {
   "cell_type": "code",
   "execution_count": 4,
   "id": "fbce4a03-a0ef-4d50-9a2c-243ef0e47179",
   "metadata": {},
   "outputs": [
    {
     "data": {
      "text/plain": [
       "\"i, me, my, myself, we, our, ours, ourselves, you, you're, you've, you'll, you'd, your, yours, yourself, yourselves, he, him, his, himself, she, she's, her, hers, herself, it, it's, its, itself, they, them, their, theirs, themselves, what, which, who, whom, this, that, that'll, these, those, am, is, are, was, were, be, been, being, have, has, had, having, do, does, did, doing, a, an, the, and, but, if, or, because, as, until, while, of, at, by, for, with, about, against, between, into, through, during, before, after, above, below, to, from, up, down, in, out, on, off, over, under, again, further, then, once, here, there, when, where, why, how, all, any, both, each, few, more, most, other, some, such, no, nor, not, only, own, same, so, than, too, very, s, t, can, will, just, don, don't, should, should've, now, d, ll, m, o, re, ve, y, ain, aren, aren't, couldn, couldn't, didn, didn't, doesn, doesn't, hadn, hadn't, hasn, hasn't, haven, haven't, isn, isn't, ma, mightn, mightn't, mustn, mustn't, needn, needn't, shan, shan't, shouldn, shouldn't, wasn, wasn't, weren, weren't, won, won't, wouldn, wouldn't\""
      ]
     },
     "execution_count": 4,
     "metadata": {},
     "output_type": "execute_result"
    }
   ],
   "source": [
    "from nltk.corpus import stopwords\n",
    "\", \".join(stopwords.words('english'))"
   ]
  },
  {
   "cell_type": "code",
   "execution_count": 5,
   "id": "31743c96-464a-4937-82c7-bb82589d9c83",
   "metadata": {},
   "outputs": [
    {
     "data": {
      "text/html": [
       "<div>\n",
       "<style scoped>\n",
       "    .dataframe tbody tr th:only-of-type {\n",
       "        vertical-align: middle;\n",
       "    }\n",
       "\n",
       "    .dataframe tbody tr th {\n",
       "        vertical-align: top;\n",
       "    }\n",
       "\n",
       "    .dataframe thead th {\n",
       "        text-align: right;\n",
       "    }\n",
       "</style>\n",
       "<table border=\"1\" class=\"dataframe\">\n",
       "  <thead>\n",
       "    <tr style=\"text-align: right;\">\n",
       "      <th></th>\n",
       "      <th>text</th>\n",
       "      <th>text_wo_punct</th>\n",
       "      <th>text_wo_stop</th>\n",
       "    </tr>\n",
       "  </thead>\n",
       "  <tbody>\n",
       "    <tr>\n",
       "      <th>0</th>\n",
       "      <td>The product is okay, you can easily transfer t...</td>\n",
       "      <td>The product is okay you can easily transfer th...</td>\n",
       "      <td>The product okay easily transfer files much ne...</td>\n",
       "    </tr>\n",
       "    <tr>\n",
       "      <th>1</th>\n",
       "      <td>I am using it with my iPhone 13 and it works p...</td>\n",
       "      <td>I am using it with my iPhone 13 and it works p...</td>\n",
       "      <td>I using iPhone 13 works perfectly Only one pro...</td>\n",
       "    </tr>\n",
       "    <tr>\n",
       "      <th>2</th>\n",
       "      <td>This is a very compact pendrive and it holds t...</td>\n",
       "      <td>This is a very compact pendrive and it holds t...</td>\n",
       "      <td>This compact pendrive holds tons pictures My i...</td>\n",
       "    </tr>\n",
       "    <tr>\n",
       "      <th>3</th>\n",
       "      <td>Osm🔥</td>\n",
       "      <td>Osm🔥</td>\n",
       "      <td>Osm🔥</td>\n",
       "    </tr>\n",
       "    <tr>\n",
       "      <th>4</th>\n",
       "      <td>Highly versatile product. A worth buy . Doing ...</td>\n",
       "      <td>Highly versatile product A worth buy  Doing go...</td>\n",
       "      <td>Highly versatile product A worth buy Doing goo...</td>\n",
       "    </tr>\n",
       "  </tbody>\n",
       "</table>\n",
       "</div>"
      ],
      "text/plain": [
       "                                                text  \\\n",
       "0  The product is okay, you can easily transfer t...   \n",
       "1  I am using it with my iPhone 13 and it works p...   \n",
       "2  This is a very compact pendrive and it holds t...   \n",
       "3                                               Osm🔥   \n",
       "4  Highly versatile product. A worth buy . Doing ...   \n",
       "\n",
       "                                       text_wo_punct  \\\n",
       "0  The product is okay you can easily transfer th...   \n",
       "1  I am using it with my iPhone 13 and it works p...   \n",
       "2  This is a very compact pendrive and it holds t...   \n",
       "3                                               Osm🔥   \n",
       "4  Highly versatile product A worth buy  Doing go...   \n",
       "\n",
       "                                        text_wo_stop  \n",
       "0  The product okay easily transfer files much ne...  \n",
       "1  I using iPhone 13 works perfectly Only one pro...  \n",
       "2  This compact pendrive holds tons pictures My i...  \n",
       "3                                               Osm🔥  \n",
       "4  Highly versatile product A worth buy Doing goo...  "
      ]
     },
     "execution_count": 5,
     "metadata": {},
     "output_type": "execute_result"
    }
   ],
   "source": [
    "STOPWORDS = set(stopwords.words('english'))\n",
    "def remove_stopwords(text):\n",
    "    \"\"\"custom function to remove the stopwords\"\"\"\n",
    "    return \" \".join([word for word in str(text).split() if word not in STOPWORDS])\n",
    "\n",
    "df[\"text_wo_stop\"] = df[\"text_wo_punct\"].apply(lambda text: remove_stopwords(text))\n",
    "df.head()"
   ]
  },
  {
   "cell_type": "code",
   "execution_count": 6,
   "id": "2234fa9d-8c93-483a-a5b8-c9c6d5010db7",
   "metadata": {},
   "outputs": [
    {
     "data": {
      "text/plain": [
       "[('I', 23),\n",
       " ('product', 21),\n",
       " ('easy', 12),\n",
       " ('phone', 11),\n",
       " ('pendrive', 11),\n",
       " ('This', 10),\n",
       " ('transfer', 9),\n",
       " ('app', 9),\n",
       " ('good', 9),\n",
       " ('iPhone', 8)]"
      ]
     },
     "execution_count": 6,
     "metadata": {},
     "output_type": "execute_result"
    }
   ],
   "source": [
    "from collections import Counter\n",
    "cnt = Counter()\n",
    "for text in df[\"text_wo_stop\"].values:\n",
    "    for word in text.split():\n",
    "        cnt[word] += 1\n",
    "        \n",
    "cnt.most_common(10)"
   ]
  },
  {
   "cell_type": "code",
   "execution_count": 7,
   "id": "4d2d3a22-7133-4954-ad00-27c62ac00fe0",
   "metadata": {},
   "outputs": [
    {
     "data": {
      "text/html": [
       "<div>\n",
       "<style scoped>\n",
       "    .dataframe tbody tr th:only-of-type {\n",
       "        vertical-align: middle;\n",
       "    }\n",
       "\n",
       "    .dataframe tbody tr th {\n",
       "        vertical-align: top;\n",
       "    }\n",
       "\n",
       "    .dataframe thead th {\n",
       "        text-align: right;\n",
       "    }\n",
       "</style>\n",
       "<table border=\"1\" class=\"dataframe\">\n",
       "  <thead>\n",
       "    <tr style=\"text-align: right;\">\n",
       "      <th></th>\n",
       "      <th>text</th>\n",
       "      <th>text_wo_punct</th>\n",
       "      <th>text_wo_stop</th>\n",
       "      <th>text_wo_stopfreq</th>\n",
       "    </tr>\n",
       "  </thead>\n",
       "  <tbody>\n",
       "    <tr>\n",
       "      <th>0</th>\n",
       "      <td>The product is okay, you can easily transfer t...</td>\n",
       "      <td>The product is okay you can easily transfer th...</td>\n",
       "      <td>The product okay easily transfer files much ne...</td>\n",
       "      <td>The okay easily files much needed IOS users ha...</td>\n",
       "    </tr>\n",
       "    <tr>\n",
       "      <th>1</th>\n",
       "      <td>I am using it with my iPhone 13 and it works p...</td>\n",
       "      <td>I am using it with my iPhone 13 and it works p...</td>\n",
       "      <td>I using iPhone 13 works perfectly Only one pro...</td>\n",
       "      <td>using 13 works perfectly Only one problem foun...</td>\n",
       "    </tr>\n",
       "    <tr>\n",
       "      <th>2</th>\n",
       "      <td>This is a very compact pendrive and it holds t...</td>\n",
       "      <td>This is a very compact pendrive and it holds t...</td>\n",
       "      <td>This compact pendrive holds tons pictures My i...</td>\n",
       "      <td>compact holds tons pictures My iCloud almost f...</td>\n",
       "    </tr>\n",
       "    <tr>\n",
       "      <th>3</th>\n",
       "      <td>Osm🔥</td>\n",
       "      <td>Osm🔥</td>\n",
       "      <td>Osm🔥</td>\n",
       "      <td>Osm🔥</td>\n",
       "    </tr>\n",
       "    <tr>\n",
       "      <th>4</th>\n",
       "      <td>Highly versatile product. A worth buy . Doing ...</td>\n",
       "      <td>Highly versatile product A worth buy  Doing go...</td>\n",
       "      <td>Highly versatile product A worth buy Doing goo...</td>\n",
       "      <td>Highly versatile A worth buy Doing far Makes e...</td>\n",
       "    </tr>\n",
       "  </tbody>\n",
       "</table>\n",
       "</div>"
      ],
      "text/plain": [
       "                                                text  \\\n",
       "0  The product is okay, you can easily transfer t...   \n",
       "1  I am using it with my iPhone 13 and it works p...   \n",
       "2  This is a very compact pendrive and it holds t...   \n",
       "3                                               Osm🔥   \n",
       "4  Highly versatile product. A worth buy . Doing ...   \n",
       "\n",
       "                                       text_wo_punct  \\\n",
       "0  The product is okay you can easily transfer th...   \n",
       "1  I am using it with my iPhone 13 and it works p...   \n",
       "2  This is a very compact pendrive and it holds t...   \n",
       "3                                               Osm🔥   \n",
       "4  Highly versatile product A worth buy  Doing go...   \n",
       "\n",
       "                                        text_wo_stop  \\\n",
       "0  The product okay easily transfer files much ne...   \n",
       "1  I using iPhone 13 works perfectly Only one pro...   \n",
       "2  This compact pendrive holds tons pictures My i...   \n",
       "3                                               Osm🔥   \n",
       "4  Highly versatile product A worth buy Doing goo...   \n",
       "\n",
       "                                    text_wo_stopfreq  \n",
       "0  The okay easily files much needed IOS users ha...  \n",
       "1  using 13 works perfectly Only one problem foun...  \n",
       "2  compact holds tons pictures My iCloud almost f...  \n",
       "3                                               Osm🔥  \n",
       "4  Highly versatile A worth buy Doing far Makes e...  "
      ]
     },
     "execution_count": 7,
     "metadata": {},
     "output_type": "execute_result"
    }
   ],
   "source": [
    "FREQWORDS = set([w for (w, wc) in cnt.most_common(10)])\n",
    "def remove_freqwords(text):\n",
    "    \"\"\"custom function to remove the frequent words\"\"\"\n",
    "    return \" \".join([word for word in str(text).split() if word not in FREQWORDS])\n",
    "\n",
    "df[\"text_wo_stopfreq\"] = df[\"text_wo_stop\"].apply(lambda text: remove_freqwords(text))\n",
    "df.head()"
   ]
  },
  {
   "cell_type": "code",
   "execution_count": 8,
   "id": "fabeaec8-f1ba-4c4b-88b2-3f6ce72a3a94",
   "metadata": {},
   "outputs": [
    {
     "data": {
      "text/html": [
       "<div>\n",
       "<style scoped>\n",
       "    .dataframe tbody tr th:only-of-type {\n",
       "        vertical-align: middle;\n",
       "    }\n",
       "\n",
       "    .dataframe tbody tr th {\n",
       "        vertical-align: top;\n",
       "    }\n",
       "\n",
       "    .dataframe thead th {\n",
       "        text-align: right;\n",
       "    }\n",
       "</style>\n",
       "<table border=\"1\" class=\"dataframe\">\n",
       "  <thead>\n",
       "    <tr style=\"text-align: right;\">\n",
       "      <th></th>\n",
       "      <th>text</th>\n",
       "      <th>text_wo_stopfreq</th>\n",
       "      <th>text_wo_stopfreqrare</th>\n",
       "    </tr>\n",
       "  </thead>\n",
       "  <tbody>\n",
       "    <tr>\n",
       "      <th>0</th>\n",
       "      <td>The product is okay, you can easily transfer t...</td>\n",
       "      <td>The okay easily files much needed IOS users ha...</td>\n",
       "      <td>The okay easily files much needed IOS users ha...</td>\n",
       "    </tr>\n",
       "    <tr>\n",
       "      <th>1</th>\n",
       "      <td>I am using it with my iPhone 13 and it works p...</td>\n",
       "      <td>using 13 works perfectly Only one problem foun...</td>\n",
       "      <td>using 13 works perfectly Only one problem foun...</td>\n",
       "    </tr>\n",
       "    <tr>\n",
       "      <th>2</th>\n",
       "      <td>This is a very compact pendrive and it holds t...</td>\n",
       "      <td>compact holds tons pictures My iCloud almost f...</td>\n",
       "      <td>compact holds tons pictures My iCloud almost f...</td>\n",
       "    </tr>\n",
       "    <tr>\n",
       "      <th>3</th>\n",
       "      <td>Osm🔥</td>\n",
       "      <td>Osm🔥</td>\n",
       "      <td>Osm🔥</td>\n",
       "    </tr>\n",
       "    <tr>\n",
       "      <th>4</th>\n",
       "      <td>Highly versatile product. A worth buy . Doing ...</td>\n",
       "      <td>Highly versatile A worth buy Doing far Makes e...</td>\n",
       "      <td>Highly versatile A worth buy Doing far Makes e...</td>\n",
       "    </tr>\n",
       "  </tbody>\n",
       "</table>\n",
       "</div>"
      ],
      "text/plain": [
       "                                                text  \\\n",
       "0  The product is okay, you can easily transfer t...   \n",
       "1  I am using it with my iPhone 13 and it works p...   \n",
       "2  This is a very compact pendrive and it holds t...   \n",
       "3                                               Osm🔥   \n",
       "4  Highly versatile product. A worth buy . Doing ...   \n",
       "\n",
       "                                    text_wo_stopfreq  \\\n",
       "0  The okay easily files much needed IOS users ha...   \n",
       "1  using 13 works perfectly Only one problem foun...   \n",
       "2  compact holds tons pictures My iCloud almost f...   \n",
       "3                                               Osm🔥   \n",
       "4  Highly versatile A worth buy Doing far Makes e...   \n",
       "\n",
       "                                text_wo_stopfreqrare  \n",
       "0  The okay easily files much needed IOS users ha...  \n",
       "1  using 13 works perfectly Only one problem foun...  \n",
       "2  compact holds tons pictures My iCloud almost f...  \n",
       "3                                               Osm🔥  \n",
       "4  Highly versatile A worth buy Doing far Makes e...  "
      ]
     },
     "execution_count": 8,
     "metadata": {},
     "output_type": "execute_result"
    }
   ],
   "source": [
    "df.drop([\"text_wo_punct\", \"text_wo_stop\"], axis=1, inplace=True)\n",
    "\n",
    "n_rare_words = 10\n",
    "RAREWORDS = set([w for (w, wc) in cnt.most_common()[:-n_rare_words-1:-1]])\n",
    "def remove_rarewords(text):\n",
    "    \"\"\"custom function to remove the rare words\"\"\"\n",
    "    return \" \".join([word for word in str(text).split() if word not in RAREWORDS])\n",
    "\n",
    "df[\"text_wo_stopfreqrare\"] = df[\"text_wo_stopfreq\"].apply(lambda text: remove_rarewords(text))\n",
    "df.head()"
   ]
  },
  {
   "cell_type": "code",
   "execution_count": 9,
   "id": "96a3e49a-bd43-482a-a9af-e672ccbdd052",
   "metadata": {},
   "outputs": [
    {
     "data": {
      "text/html": [
       "<div>\n",
       "<style scoped>\n",
       "    .dataframe tbody tr th:only-of-type {\n",
       "        vertical-align: middle;\n",
       "    }\n",
       "\n",
       "    .dataframe tbody tr th {\n",
       "        vertical-align: top;\n",
       "    }\n",
       "\n",
       "    .dataframe thead th {\n",
       "        text-align: right;\n",
       "    }\n",
       "</style>\n",
       "<table border=\"1\" class=\"dataframe\">\n",
       "  <thead>\n",
       "    <tr style=\"text-align: right;\">\n",
       "      <th></th>\n",
       "      <th>text</th>\n",
       "      <th>text_stemmed</th>\n",
       "    </tr>\n",
       "  </thead>\n",
       "  <tbody>\n",
       "    <tr>\n",
       "      <th>0</th>\n",
       "      <td>The product is okay, you can easily transfer t...</td>\n",
       "      <td>the product is okay, you can easili transfer t...</td>\n",
       "    </tr>\n",
       "    <tr>\n",
       "      <th>1</th>\n",
       "      <td>I am using it with my iPhone 13 and it works p...</td>\n",
       "      <td>i am use it with my iphon 13 and it work perfe...</td>\n",
       "    </tr>\n",
       "    <tr>\n",
       "      <th>2</th>\n",
       "      <td>This is a very compact pendrive and it holds t...</td>\n",
       "      <td>thi is a veri compact pendriv and it hold ton ...</td>\n",
       "    </tr>\n",
       "    <tr>\n",
       "      <th>3</th>\n",
       "      <td>Osm🔥</td>\n",
       "      <td>osm🔥</td>\n",
       "    </tr>\n",
       "    <tr>\n",
       "      <th>4</th>\n",
       "      <td>Highly versatile product. A worth buy . Doing ...</td>\n",
       "      <td>highli versatil product. a worth buy . do good...</td>\n",
       "    </tr>\n",
       "  </tbody>\n",
       "</table>\n",
       "</div>"
      ],
      "text/plain": [
       "                                                text  \\\n",
       "0  The product is okay, you can easily transfer t...   \n",
       "1  I am using it with my iPhone 13 and it works p...   \n",
       "2  This is a very compact pendrive and it holds t...   \n",
       "3                                               Osm🔥   \n",
       "4  Highly versatile product. A worth buy . Doing ...   \n",
       "\n",
       "                                        text_stemmed  \n",
       "0  the product is okay, you can easili transfer t...  \n",
       "1  i am use it with my iphon 13 and it work perfe...  \n",
       "2  thi is a veri compact pendriv and it hold ton ...  \n",
       "3                                               osm🔥  \n",
       "4  highli versatil product. a worth buy . do good...  "
      ]
     },
     "execution_count": 9,
     "metadata": {},
     "output_type": "execute_result"
    }
   ],
   "source": [
    "#STEMMING\n",
    "from nltk.stem.porter import PorterStemmer\n",
    "\n",
    "# Drop the two columns \n",
    "df.drop([\"text_wo_stopfreq\", \"text_wo_stopfreqrare\"], axis=1, inplace=True) \n",
    "\n",
    "stemmer = PorterStemmer()\n",
    "def stem_words(text):\n",
    "    return \" \".join([stemmer.stem(word) for word in text.split()])\n",
    "\n",
    "df[\"text_stemmed\"] = df[\"text\"].apply(lambda text: stem_words(text))\n",
    "df.head()"
   ]
  },
  {
   "cell_type": "code",
   "execution_count": 10,
   "id": "471b0dd3-091f-4fc4-8c6b-279f6b85c71c",
   "metadata": {},
   "outputs": [
    {
     "data": {
      "text/plain": [
       "('arabic',\n",
       " 'danish',\n",
       " 'dutch',\n",
       " 'english',\n",
       " 'finnish',\n",
       " 'french',\n",
       " 'german',\n",
       " 'hungarian',\n",
       " 'italian',\n",
       " 'norwegian',\n",
       " 'porter',\n",
       " 'portuguese',\n",
       " 'romanian',\n",
       " 'russian',\n",
       " 'spanish',\n",
       " 'swedish')"
      ]
     },
     "execution_count": 10,
     "metadata": {},
     "output_type": "execute_result"
    }
   ],
   "source": [
    "from nltk.stem.snowball import SnowballStemmer\n",
    "SnowballStemmer.languages"
   ]
  },
  {
   "cell_type": "code",
   "execution_count": 11,
   "id": "161bd7f3-5b53-4981-9aa0-8923ccb070be",
   "metadata": {},
   "outputs": [],
   "source": [
    "import pandas as pd\n",
    "import numpy as np\n",
    "import matplotlib.pyplot as plt\n",
    "import seaborn as sns\n",
    "\n",
    "plt.style.use('ggplot')\n",
    "\n",
    "import nltk"
   ]
  },
  {
   "cell_type": "code",
   "execution_count": 12,
   "id": "16bdecde-2ae6-4ff5-91df-7f839d7a54e1",
   "metadata": {},
   "outputs": [],
   "source": [
    "df = pd.read_csv('reviews.csv')\n",
    "df = df.tail(1000)"
   ]
  },
  {
   "cell_type": "code",
   "execution_count": 13,
   "id": "d607e918-1b1c-4353-8fd3-8ec8f375eaec",
   "metadata": {},
   "outputs": [
    {
     "data": {
      "text/plain": [
       "['Id', 'profileName', 'text', 'rating', 'helpful']"
      ]
     },
     "execution_count": 13,
     "metadata": {},
     "output_type": "execute_result"
    }
   ],
   "source": [
    "list(df)"
   ]
  },
  {
   "cell_type": "code",
   "execution_count": 14,
   "id": "b7c5b965-0369-48be-8310-667658ecad8a",
   "metadata": {},
   "outputs": [
    {
     "data": {
      "text/html": [
       "<div>\n",
       "<style scoped>\n",
       "    .dataframe tbody tr th:only-of-type {\n",
       "        vertical-align: middle;\n",
       "    }\n",
       "\n",
       "    .dataframe tbody tr th {\n",
       "        vertical-align: top;\n",
       "    }\n",
       "\n",
       "    .dataframe thead th {\n",
       "        text-align: right;\n",
       "    }\n",
       "</style>\n",
       "<table border=\"1\" class=\"dataframe\">\n",
       "  <thead>\n",
       "    <tr style=\"text-align: right;\">\n",
       "      <th></th>\n",
       "      <th>Id</th>\n",
       "      <th>profileName</th>\n",
       "      <th>text</th>\n",
       "      <th>rating</th>\n",
       "      <th>helpful</th>\n",
       "    </tr>\n",
       "  </thead>\n",
       "  <tbody>\n",
       "    <tr>\n",
       "      <th>45</th>\n",
       "      <td>46</td>\n",
       "      <td>Sarfaraz h Batliwala</td>\n",
       "      <td>Good productWorth buying</td>\n",
       "      <td>5</td>\n",
       "      <td>0</td>\n",
       "    </tr>\n",
       "    <tr>\n",
       "      <th>46</th>\n",
       "      <td>47</td>\n",
       "      <td>hansraj meena</td>\n",
       "      <td>Worst pendrive ever.. after 6-7 months it does...</td>\n",
       "      <td>1</td>\n",
       "      <td>0</td>\n",
       "    </tr>\n",
       "    <tr>\n",
       "      <th>47</th>\n",
       "      <td>48</td>\n",
       "      <td>sajan kapil</td>\n",
       "      <td>I bought this pendrive to transfer pictures fr...</td>\n",
       "      <td>5</td>\n",
       "      <td>1</td>\n",
       "    </tr>\n",
       "    <tr>\n",
       "      <th>48</th>\n",
       "      <td>49</td>\n",
       "      <td>A. Pavan Kumar</td>\n",
       "      <td>Refund me</td>\n",
       "      <td>2</td>\n",
       "      <td>1</td>\n",
       "    </tr>\n",
       "    <tr>\n",
       "      <th>49</th>\n",
       "      <td>50</td>\n",
       "      <td>manoj Kumar das</td>\n",
       "      <td>Usb3.0 is not proper working in laptop</td>\n",
       "      <td>2</td>\n",
       "      <td>0</td>\n",
       "    </tr>\n",
       "  </tbody>\n",
       "</table>\n",
       "</div>"
      ],
      "text/plain": [
       "    Id           profileName  \\\n",
       "45  46  Sarfaraz h Batliwala   \n",
       "46  47         hansraj meena   \n",
       "47  48           sajan kapil   \n",
       "48  49        A. Pavan Kumar   \n",
       "49  50       manoj Kumar das   \n",
       "\n",
       "                                                 text  rating  helpful  \n",
       "45                           Good productWorth buying       5        0  \n",
       "46  Worst pendrive ever.. after 6-7 months it does...       1        0  \n",
       "47  I bought this pendrive to transfer pictures fr...       5        1  \n",
       "48                                          Refund me       2        1  \n",
       "49             Usb3.0 is not proper working in laptop       2        0  "
      ]
     },
     "execution_count": 14,
     "metadata": {},
     "output_type": "execute_result"
    }
   ],
   "source": [
    "df.tail()"
   ]
  },
  {
   "cell_type": "code",
   "execution_count": 15,
   "id": "c9a3cae0-d3aa-40b1-8444-83174217ab75",
   "metadata": {},
   "outputs": [
    {
     "name": "stdout",
     "output_type": "stream",
     "text": [
      "<class 'pandas.core.frame.DataFrame'>\n",
      "RangeIndex: 50 entries, 0 to 49\n",
      "Data columns (total 5 columns):\n",
      " #   Column       Non-Null Count  Dtype \n",
      "---  ------       --------------  ----- \n",
      " 0   Id           50 non-null     int64 \n",
      " 1   profileName  50 non-null     object\n",
      " 2   text         49 non-null     object\n",
      " 3   rating       50 non-null     int64 \n",
      " 4   helpful      50 non-null     int64 \n",
      "dtypes: int64(3), object(2)\n",
      "memory usage: 2.1+ KB\n"
     ]
    }
   ],
   "source": [
    "df.info()"
   ]
  },
  {
   "cell_type": "code",
   "execution_count": 16,
   "id": "05439ddb-fa38-4214-8cde-31afc1138cc8",
   "metadata": {},
   "outputs": [
    {
     "name": "stdout",
     "output_type": "stream",
     "text": [
      "(50, 5)\n"
     ]
    }
   ],
   "source": [
    "print(df.shape)"
   ]
  },
  {
   "cell_type": "code",
   "execution_count": 17,
   "id": "2c6a92fd-ca55-4cde-9618-392733118e32",
   "metadata": {},
   "outputs": [
    {
     "data": {
      "image/png": "[encoded data removed]",
      "text/plain": [
       "<Figure size 1000x500 with 1 Axes>"
      ]
     },
     "metadata": {},
     "output_type": "display_data"
    }
   ],
   "source": [
    "ax = df['rating'].value_counts().sort_index() \\\n",
    "    .plot(kind='bar', \n",
    "          title='Count of Reviews by Stars',\n",
    "          figsize=(10, 5))\n",
    "\n",
    "ax.set_xlabel('Review Stars')\n",
    "plt.show()"
   ]
  },
  {
   "cell_type": "code",
   "execution_count": 18,
   "id": "dd42b25a-3bc2-4eb0-8bf1-bb04eded0d0b",
   "metadata": {},
   "outputs": [
    {
     "name": "stdout",
     "output_type": "stream",
     "text": [
      "I bought this pendrive to transfer pictures from my ipad and my android phone to my computer. Worked great.. But it should be noted that iOS had to install an app to use it. I operated following the seller's description, the app worked fine.A perfect product!\n"
     ]
    }
   ],
   "source": [
    "example = df['text'][47]\n",
    "print(example)"
   ]
  },
  {
   "cell_type": "code",
   "execution_count": 19,
   "id": "5fe7eb68-3a95-455e-91af-5849e86a8970",
   "metadata": {},
   "outputs": [
    {
     "data": {
      "text/plain": [
       "['I',\n",
       " 'bought',\n",
       " 'this',\n",
       " 'pendrive',\n",
       " 'to',\n",
       " 'transfer',\n",
       " 'pictures',\n",
       " 'from',\n",
       " 'my',\n",
       " 'ipad']"
      ]
     },
     "execution_count": 19,
     "metadata": {},
     "output_type": "execute_result"
    }
   ],
   "source": [
    "tokens = nltk.word_tokenize(example)\n",
    "tokens[:10]"
   ]
  },
  {
   "cell_type": "code",
   "execution_count": 20,
   "id": "daeb2b47-fca9-4f51-b5e7-6c00f32f66e3",
   "metadata": {},
   "outputs": [
    {
     "name": "stdout",
     "output_type": "stream",
     "text": [
      "Requirement already satisfied: vaderSentiment in c:\\users\\am\\anaconda3\\lib\\site-packages (3.3.2)\n",
      "Requirement already satisfied: requests in c:\\users\\am\\anaconda3\\lib\\site-packages (from vaderSentiment) (2.28.1)\n",
      "Requirement already satisfied: charset-normalizer<3,>=2 in c:\\users\\am\\anaconda3\\lib\\site-packages (from requests->vaderSentiment) (2.0.4)\n",
      "Requirement already satisfied: urllib3<1.27,>=1.21.1 in c:\\users\\am\\anaconda3\\lib\\site-packages (from requests->vaderSentiment) (1.26.11)\n",
      "Requirement already satisfied: idna<4,>=2.5 in c:\\users\\am\\anaconda3\\lib\\site-packages (from requests->vaderSentiment) (3.3)\n",
      "Requirement already satisfied: certifi>=2017.4.17 in c:\\users\\am\\anaconda3\\lib\\site-packages (from requests->vaderSentiment) (2022.9.14)\n",
      "Note: you may need to restart the kernel to use updated packages.\n"
     ]
    }
   ],
   "source": [
    "pip install vaderSentiment"
   ]
  },
  {
   "cell_type": "code",
   "execution_count": 21,
   "id": "cfade2cc-3a03-4b20-ba27-888e189c4873",
   "metadata": {},
   "outputs": [],
   "source": [
    "from nltk.sentiment import SentimentIntensityAnalyzer\n",
    "from vaderSentiment.vaderSentiment import SentimentIntensityAnalyzer\n",
    "from tqdm.notebook import tqdm\n",
    "sia = SentimentIntensityAnalyzer()"
   ]
  },
  {
   "cell_type": "code",
   "execution_count": 22,
   "id": "7bf2b166-4445-47a2-944f-8d70e136c0ff",
   "metadata": {},
   "outputs": [
    {
     "data": {
      "text/plain": [
       "<vaderSentiment.vaderSentiment.SentimentIntensityAnalyzer at 0x28deea6f8b0>"
      ]
     },
     "execution_count": 22,
     "metadata": {},
     "output_type": "execute_result"
    }
   ],
   "source": [
    "sia"
   ]
  },
  {
   "cell_type": "code",
   "execution_count": 23,
   "id": "12d631b9-8b16-4763-96ea-b00bb708cf6c",
   "metadata": {},
   "outputs": [
    {
     "data": {
      "text/plain": [
       "{'neg': 0.0, 'neu': 0.848, 'pos': 0.152, 'compound': 0.8356}"
      ]
     },
     "execution_count": 23,
     "metadata": {},
     "output_type": "execute_result"
    }
   ],
   "source": [
    "sia.polarity_scores(example)"
   ]
  },
  {
   "cell_type": "code",
   "execution_count": 24,
   "id": "70fc2669-2c09-427f-8af5-02310c22e5e4",
   "metadata": {},
   "outputs": [
    {
     "data": {
      "application/vnd.jupyter.widget-view+json": {
       "model_id": "71de8148856e4f0da37b94e69c4e1ba6",
       "version_major": 2,
       "version_minor": 0
      },
      "text/plain": [
       "  0%|          | 0/50 [00:00<?, ?it/s]"
      ]
     },
     "metadata": {},
     "output_type": "display_data"
    },
    {
     "ename": "TypeError",
     "evalue": "'float' object is not iterable",
     "output_type": "error",
     "traceback": [
      "\u001b[1;31m---------------------------------------------------------------------------\u001b[0m",
      "\u001b[1;31mTypeError\u001b[0m                                 Traceback (most recent call last)",
      "\u001b[1;32m~\\AppData\\Local\\Temp\\ipykernel_11308\\3233219053.py\u001b[0m in \u001b[0;36m<module>\u001b[1;34m\u001b[0m\n\u001b[0;32m      3\u001b[0m     \u001b[0mtext\u001b[0m \u001b[1;33m=\u001b[0m \u001b[0mrow\u001b[0m\u001b[1;33m[\u001b[0m\u001b[1;34m'text'\u001b[0m\u001b[1;33m]\u001b[0m\u001b[1;33m\u001b[0m\u001b[1;33m\u001b[0m\u001b[0m\n\u001b[0;32m      4\u001b[0m     \u001b[0mmyid\u001b[0m \u001b[1;33m=\u001b[0m \u001b[0mrow\u001b[0m\u001b[1;33m[\u001b[0m\u001b[1;34m'Id'\u001b[0m\u001b[1;33m]\u001b[0m\u001b[1;33m\u001b[0m\u001b[1;33m\u001b[0m\u001b[0m\n\u001b[1;32m----> 5\u001b[1;33m     \u001b[0mres\u001b[0m\u001b[1;33m[\u001b[0m\u001b[0mmyid\u001b[0m\u001b[1;33m]\u001b[0m \u001b[1;33m=\u001b[0m \u001b[0msia\u001b[0m\u001b[1;33m.\u001b[0m\u001b[0mpolarity_scores\u001b[0m\u001b[1;33m(\u001b[0m\u001b[0mtext\u001b[0m\u001b[1;33m)\u001b[0m\u001b[1;33m\u001b[0m\u001b[1;33m\u001b[0m\u001b[0m\n\u001b[0m",
      "\u001b[1;32m~\\anaconda3\\lib\\site-packages\\vaderSentiment\\vaderSentiment.py\u001b[0m in \u001b[0;36mpolarity_scores\u001b[1;34m(self, text)\u001b[0m\n\u001b[0;32m    239\u001b[0m         \u001b[0mtext_no_emoji\u001b[0m \u001b[1;33m=\u001b[0m \u001b[1;34m\"\"\u001b[0m\u001b[1;33m\u001b[0m\u001b[1;33m\u001b[0m\u001b[0m\n\u001b[0;32m    240\u001b[0m         \u001b[0mprev_space\u001b[0m \u001b[1;33m=\u001b[0m \u001b[1;32mTrue\u001b[0m\u001b[1;33m\u001b[0m\u001b[1;33m\u001b[0m\u001b[0m\n\u001b[1;32m--> 241\u001b[1;33m         \u001b[1;32mfor\u001b[0m \u001b[0mchr\u001b[0m \u001b[1;32min\u001b[0m \u001b[0mtext\u001b[0m\u001b[1;33m:\u001b[0m\u001b[1;33m\u001b[0m\u001b[1;33m\u001b[0m\u001b[0m\n\u001b[0m\u001b[0;32m    242\u001b[0m             \u001b[1;32mif\u001b[0m \u001b[0mchr\u001b[0m \u001b[1;32min\u001b[0m \u001b[0mself\u001b[0m\u001b[1;33m.\u001b[0m\u001b[0memojis\u001b[0m\u001b[1;33m:\u001b[0m\u001b[1;33m\u001b[0m\u001b[1;33m\u001b[0m\u001b[0m\n\u001b[0;32m    243\u001b[0m                 \u001b[1;31m# get the textual description\u001b[0m\u001b[1;33m\u001b[0m\u001b[1;33m\u001b[0m\u001b[0m\n",
      "\u001b[1;31mTypeError\u001b[0m: 'float' object is not iterable"
     ]
    }
   ],
   "source": [
    "res = {}\n",
    "for i, row in tqdm(df.iterrows(), total=len(df)):\n",
    "    text = row['text']\n",
    "    myid = row['Id']\n",
    "    res[myid] = sia.polarity_scores(text)"
   ]
  },
  {
   "cell_type": "code",
   "execution_count": 25,
   "id": "f8810b9f-21cb-4cce-8346-31d91358892b",
   "metadata": {},
   "outputs": [
    {
     "data": {
      "text/plain": [
       "{1: {'neg': 0.057, 'neu': 0.818, 'pos': 0.125, 'compound': 0.6369},\n",
       " 2: {'neg': 0.087, 'neu': 0.76, 'pos': 0.153, 'compound': 0.7579},\n",
       " 3: {'neg': 0.0, 'neu': 0.854, 'pos': 0.146, 'compound': 0.877},\n",
       " 4: {'neg': 0.706, 'neu': 0.294, 'pos': 0.0, 'compound': -0.34},\n",
       " 5: {'neg': 0.0, 'neu': 0.774, 'pos': 0.226, 'compound': 0.8591},\n",
       " 6: {'neg': 0.0, 'neu': 0.87, 'pos': 0.13, 'compound': 0.2382},\n",
       " 7: {'neg': 0.0, 'neu': 0.843, 'pos': 0.157, 'compound': 0.8671},\n",
       " 8: {'neg': 0.051, 'neu': 0.622, 'pos': 0.327, 'compound': 0.8391},\n",
       " 9: {'neg': 0.0, 'neu': 0.572, 'pos': 0.428, 'compound': 0.6697},\n",
       " 10: {'neg': 0.064, 'neu': 0.911, 'pos': 0.025, 'compound': -0.4577},\n",
       " 11: {'neg': 0.0, 'neu': 0.196, 'pos': 0.804, 'compound': 0.6249},\n",
       " 12: {'neg': 0.0, 'neu': 0.256, 'pos': 0.744, 'compound': 0.4404}}"
      ]
     },
     "execution_count": 25,
     "metadata": {},
     "output_type": "execute_result"
    }
   ],
   "source": [
    "res"
   ]
  },
  {
   "cell_type": "code",
   "execution_count": 26,
   "id": "4cd1e388-4b7d-451d-be0c-b056c5901ba0",
   "metadata": {},
   "outputs": [],
   "source": [
    "vaders = pd.DataFrame(res).T\n",
    "vaders = vaders.reset_index().rename(columns={'index': 'Id'})\n",
    "vaders = vaders.merge(df, how='left')"
   ]
  },
  {
   "cell_type": "code",
   "execution_count": 27,
   "id": "9b86373f-bb76-4f99-8c99-1c64ada8903d",
   "metadata": {},
   "outputs": [
    {
     "data": {
      "text/html": [
       "<div>\n",
       "<style scoped>\n",
       "    .dataframe tbody tr th:only-of-type {\n",
       "        vertical-align: middle;\n",
       "    }\n",
       "\n",
       "    .dataframe tbody tr th {\n",
       "        vertical-align: top;\n",
       "    }\n",
       "\n",
       "    .dataframe thead th {\n",
       "        text-align: right;\n",
       "    }\n",
       "</style>\n",
       "<table border=\"1\" class=\"dataframe\">\n",
       "  <thead>\n",
       "    <tr style=\"text-align: right;\">\n",
       "      <th></th>\n",
       "      <th>Id</th>\n",
       "      <th>neg</th>\n",
       "      <th>neu</th>\n",
       "      <th>pos</th>\n",
       "      <th>compound</th>\n",
       "      <th>profileName</th>\n",
       "      <th>text</th>\n",
       "      <th>rating</th>\n",
       "      <th>helpful</th>\n",
       "    </tr>\n",
       "  </thead>\n",
       "  <tbody>\n",
       "    <tr>\n",
       "      <th>0</th>\n",
       "      <td>1</td>\n",
       "      <td>0.057</td>\n",
       "      <td>0.818</td>\n",
       "      <td>0.125</td>\n",
       "      <td>0.6369</td>\n",
       "      <td>Raunav Dasgupta</td>\n",
       "      <td>The product is okay, you can easily transfer t...</td>\n",
       "      <td>4</td>\n",
       "      <td>6</td>\n",
       "    </tr>\n",
       "    <tr>\n",
       "      <th>1</th>\n",
       "      <td>2</td>\n",
       "      <td>0.087</td>\n",
       "      <td>0.760</td>\n",
       "      <td>0.153</td>\n",
       "      <td>0.7579</td>\n",
       "      <td>SUMAN</td>\n",
       "      <td>I am using it with my iPhone 13 and it works p...</td>\n",
       "      <td>4</td>\n",
       "      <td>2</td>\n",
       "    </tr>\n",
       "    <tr>\n",
       "      <th>2</th>\n",
       "      <td>3</td>\n",
       "      <td>0.000</td>\n",
       "      <td>0.854</td>\n",
       "      <td>0.146</td>\n",
       "      <td>0.8770</td>\n",
       "      <td>Deepak nagpal</td>\n",
       "      <td>This is a very compact pendrive and it holds t...</td>\n",
       "      <td>5</td>\n",
       "      <td>0</td>\n",
       "    </tr>\n",
       "    <tr>\n",
       "      <th>3</th>\n",
       "      <td>4</td>\n",
       "      <td>0.706</td>\n",
       "      <td>0.294</td>\n",
       "      <td>0.000</td>\n",
       "      <td>-0.3400</td>\n",
       "      <td>ajay chauhan</td>\n",
       "      <td>Osm🔥</td>\n",
       "      <td>3</td>\n",
       "      <td>0</td>\n",
       "    </tr>\n",
       "    <tr>\n",
       "      <th>4</th>\n",
       "      <td>5</td>\n",
       "      <td>0.000</td>\n",
       "      <td>0.774</td>\n",
       "      <td>0.226</td>\n",
       "      <td>0.8591</td>\n",
       "      <td>JAYA</td>\n",
       "      <td>Highly versatile product. A worth buy . Doing ...</td>\n",
       "      <td>5</td>\n",
       "      <td>0</td>\n",
       "    </tr>\n",
       "  </tbody>\n",
       "</table>\n",
       "</div>"
      ],
      "text/plain": [
       "   Id    neg    neu    pos  compound      profileName  \\\n",
       "0   1  0.057  0.818  0.125    0.6369  Raunav Dasgupta   \n",
       "1   2  0.087  0.760  0.153    0.7579            SUMAN   \n",
       "2   3  0.000  0.854  0.146    0.8770    Deepak nagpal   \n",
       "3   4  0.706  0.294  0.000   -0.3400     ajay chauhan   \n",
       "4   5  0.000  0.774  0.226    0.8591             JAYA   \n",
       "\n",
       "                                                text  rating  helpful  \n",
       "0  The product is okay, you can easily transfer t...       4        6  \n",
       "1  I am using it with my iPhone 13 and it works p...       4        2  \n",
       "2  This is a very compact pendrive and it holds t...       5        0  \n",
       "3                                               Osm🔥       3        0  \n",
       "4  Highly versatile product. A worth buy . Doing ...       5        0  "
      ]
     },
     "execution_count": 27,
     "metadata": {},
     "output_type": "execute_result"
    }
   ],
   "source": [
    "vaders.head()"
   ]
  },
  {
   "cell_type": "code",
   "execution_count": 28,
   "id": "4b7de625-ef2b-4382-b8d0-bd2bf45723c1",
   "metadata": {},
   "outputs": [
    {
     "data": {
      "image/png": "[encoded data removed]",
      "text/plain": [
       "<Figure size 640x480 with 1 Axes>"
      ]
     },
     "metadata": {},
     "output_type": "display_data"
    }
   ],
   "source": [
    "ax = sns.barplot(data=vaders, x='rating', y='compound')\n",
    "ax.set_title('Compund Score by Amazon Star Review')\n",
    "plt.show()"
   ]
  },
  {
   "cell_type": "code",
   "execution_count": 29,
   "id": "254b266d-0214-4643-a48d-3c4f26ff459b",
   "metadata": {},
   "outputs": [
    {
     "data": {
      "image/png": "[encoded data removed]",
      "text/plain": [
       "<Figure size 1200x300 with 3 Axes>"
      ]
     },
     "metadata": {},
     "output_type": "display_data"
    }
   ],
   "source": [
    "fig, axs = plt.subplots(1, 3, figsize=(12, 3))\n",
    "sns.barplot(data=vaders, x='rating', y='pos', ax=axs[0])\n",
    "sns.barplot(data=vaders, x='rating', y='neu', ax=axs[1])\n",
    "sns.barplot(data=vaders, x='rating', y='neg', ax=axs[2])\n",
    "axs[0].set_title('Positive')\n",
    "axs[1].set_title('Neutral')\n",
    "axs[2].set_title('Negative')\n",
    "plt.tight_layout()\n",
    "plt.show()"
   ]
  },
  {
   "cell_type": "code",
   "execution_count": null,
   "id": "7924c44e-b7f9-417a-8147-618b17544fee",
   "metadata": {},
   "outputs": [],
   "source": []
  }
 ],
 "metadata": {
  "kernelspec": {
   "display_name": "Python 3 (ipykernel)",
   "language": "python",
   "name": "python3"
  },
  "language_info": {
   "codemirror_mode": {
    "name": "ipython",
    "version": 3
   },
   "file_extension": ".py",
   "mimetype": "text/x-python",
   "name": "python",
   "nbconvert_exporter": "python",
   "pygments_lexer": "ipython3",
   "version": "3.11.4"
  }
 },
 "nbformat": 4,
 "nbformat_minor": 5
}
